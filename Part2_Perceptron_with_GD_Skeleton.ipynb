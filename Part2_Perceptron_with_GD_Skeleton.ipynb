{
  "cells": [
    {
      "cell_type": "markdown",
      "metadata": {
        "id": "view-in-github",
        "colab_type": "text"
      },
      "source": [
        "<a href=\"https://colab.research.google.com/github/baldevoli/git_test/blob/main/Part2_Perceptron_with_GD_Skeleton.ipynb\" target=\"_parent\"><img src=\"https://colab.research.google.com/assets/colab-badge.svg\" alt=\"Open In Colab\"/></a>"
      ]
    },
    {
      "cell_type": "markdown",
      "metadata": {
        "id": "BUiR-ZGqoyc7"
      },
      "source": [
        "<h3> Courtesy: This assignment has been updated and modified from an original assignment of Dr. Tim Oates</h3>\n",
        "\n",
        "<h4> Any sort of collaboration and external help should be explicitly mentioned in your submission.</h4>"
      ]
    },
    {
      "cell_type": "code",
      "execution_count": 202,
      "metadata": {
        "id": "xO61fGQRoocu"
      },
      "outputs": [],
      "source": [
        "import math\n",
        "import numpy as np\n",
        "import matplotlib.pyplot as plt"
      ]
    },
    {
      "cell_type": "markdown",
      "metadata": {
        "id": "1-7Vb3VLo6xV"
      },
      "source": [
        "<h2>Homework 1</h2>\n",
        "\n",
        "<p>In this assignment, you will implement a numerical approach to gradient descent and use it to develop the perceptron algorithm. This process will be broken down into several stages, as described below. First, we'll explore how to perform gradient descent numerically.</p>\n",
        "\n",
        "<h3>The Method of Finite Differences</h3>\n",
        "\n",
        "<p>Given a function <i>f(x)</i>, the analytical approach to gradient descent—i.e., finding the value of <i>x</i> that minimizes <i>f(x)</i>—involves computing <i>f'(x)</i> and iterating as follows, where <i>α ∈ (0, 1]</i> is the learning rate:</p>\n",
        "\n",
        "<pre>\n",
        "x = 0\n",
        "while not converged:\n",
        "    x = x - α * f'(x)\n",
        "</pre>\n",
        "\n",
        "<p>If you cannot compute <i>f'(x)</i> analytically, you can estimate it using the finite difference method, which is expressed as follows for a sufficiently small <i>ε</i>:</p>\n",
        "\n",
        "<pre>\n",
        "f'(x) ≈ (f(x + ε) - f(x - ε)) / (2ε)\n",
        "</pre>\n",
        "\n",
        "<p>The finite difference method assumes that over very small intervals, the function behaves linearly. Therefore, the slope of the tangent line can be estimated as the difference between the function values at the ends of the interval divided by the interval width.</p>\n",
        "\n",
        "<p>For example, the slope of <i>f(x) = x²</i> at <i>x = 1</i> can be estimated as:</p>\n",
        "\n",
        "<p>\n",
        "f'(1) = <sup>((1 + 0.001)² - (1 - 0.001)²)</sup> / <sub>(2 * 0.001)</sub>\n",
        "</p>\n",
        "\n"
      ]
    },
    {
      "cell_type": "code",
      "execution_count": 203,
      "metadata": {
        "colab": {
          "base_uri": "https://localhost:8080/"
        },
        "id": "kdKgpzhdo3eI",
        "outputId": "3f2e0c76-1b4d-4f4b-ad67-c66860ca8eb9"
      },
      "outputs": [
        {
          "output_type": "execute_result",
          "data": {
            "text/plain": [
              "1.9999999999998352"
            ]
          },
          "metadata": {},
          "execution_count": 203
        }
      ],
      "source": [
        "e = 0.001\n",
        "(math.pow(1 + e, 2) - math.pow(1 - e, 2))/(2*e)"
      ]
    },
    {
      "cell_type": "markdown",
      "metadata": {
        "id": "uXpUiXJro6Rr"
      },
      "source": [
        "<p>Note that the number above is very close to what you would get analytically by taking derivatives:</p>\n",
        "\n",
        "<pre>\n",
        "f'(x) = 2x\n",
        "so\n",
        "f'(1) = 2 * 1 = 2\n",
        "</pre>\n",
        "\n",
        "<p>You'll use the method of finite differences to compute the derivative of a loss function with respect to the weights of a perceptron.</p>\n",
        "\n",
        "<p>Below is a simple implementation of the method of finite differences for a univariate function. It is overly simple, running for a fixed number of iterations, and assuming constants for <i>ε</i> and <i>α</i>, but it works for simple cases.</p>\n"
      ]
    },
    {
      "cell_type": "code",
      "execution_count": 204,
      "metadata": {
        "id": "YXEN7kUopPia"
      },
      "outputs": [],
      "source": [
        "def fd_demo(f, x0):\n",
        "    e = 0.001\n",
        "    a = 0.01\n",
        "    x = x0\n",
        "    for _ in range(1000):\n",
        "        g = (f(x + e) - f(x - e)) / (2*e)\n",
        "        x = x - a * g\n",
        "    return x"
      ]
    },
    {
      "cell_type": "code",
      "execution_count": 205,
      "metadata": {
        "colab": {
          "base_uri": "https://localhost:8080/"
        },
        "id": "m2P3UsbHpcZK",
        "outputId": "a93ecfda-8f26-4b43-89bb-149672e670e0"
      },
      "outputs": [
        {
          "output_type": "execute_result",
          "data": {
            "text/plain": [
              "3.365934714445534e-09"
            ]
          },
          "metadata": {},
          "execution_count": 205
        }
      ],
      "source": [
        "# x*x is minimized at 0\n",
        "f = lambda x: x * x\n",
        "fd_demo(f, 2)"
      ]
    },
    {
      "cell_type": "code",
      "execution_count": 206,
      "metadata": {
        "colab": {
          "base_uri": "https://localhost:8080/"
        },
        "id": "1tID4NWmpexH",
        "outputId": "898f45ab-1d4b-406f-d41c-0e2ecef7ea3b"
      },
      "outputs": [
        {
          "output_type": "stream",
          "name": "stdout",
          "text": [
            "4.711986618234112\n",
            "4.71238898038469\n"
          ]
        }
      ],
      "source": [
        "# sin(x) is minimized at lots of points, the closest to 2 is 3pi/2\n",
        "f = lambda x: math.sin(x)\n",
        "print(fd_demo(f, 2))\n",
        "print(math.pi * 3 / 2)"
      ]
    },
    {
      "cell_type": "markdown",
      "metadata": {
        "id": "1wEcbd7aplMN"
      },
      "source": [
        "<h3>Perceptron Class</h3>\n",
        "\n",
        "<p>Below is a simple <code>Perceptron</code> class that you can use in this assignment. Feel free to use it as is, make changes, or write your own from scratch. This class initializes a weight vector with small random numbers and includes methods to compute the activation for an input and to produce a binary class label for an input.</p>\n",
        "\n",
        "<p>Note that the class below does not maintain an explicit bias term <i>b</i>. You can add one or, better yet, ensure that all inputs, <i>x</i>, have a 1 in one of the positions.</p>\n"
      ]
    },
    {
      "cell_type": "code",
      "execution_count": 207,
      "metadata": {
        "id": "Qvz4o4ZbpgYC"
      },
      "outputs": [],
      "source": [
        "class Perceptron:\n",
        "\n",
        "    def __init__(self, n):\n",
        "        \"\"\"\n",
        "        n (int) - The length of x vectors that the classifier will process.\n",
        "        \"\"\"\n",
        "\n",
        "        # Start with weights uniformly chosen from the range [-0.5, 0.5]\n",
        "        self.weights = (np.random.rand(n) - 0.5).tolist()\n",
        "\n",
        "    def activation(self, x):\n",
        "        return np.dot(x, self.weights)\n",
        "\n",
        "    def predict(self, x):\n",
        "        return 1 if self.activation(x) > 0 else -1\n"
      ]
    },
    {
      "cell_type": "markdown",
      "metadata": {
        "id": "oeephTXYprOs"
      },
      "source": [
        "<h3>Task 1: The Perceptron Loss</h3>\n",
        "\n",
        "<p>Fill in the function below to compute the perceptron loss. Recall that the perceptron loss is 0 if the activation and the class label have the same sign; otherwise, it is <code>-y * activation</code>.</p>\n"
      ]
    },
    {
      "cell_type": "code",
      "execution_count": 208,
      "metadata": {
        "id": "pZ_7LZHFpl43"
      },
      "outputs": [],
      "source": [
        "def loss_perceptron(y, activation):\n",
        "  #if the predicted lable as same as true lable it ruturns 0\n",
        "  # else -y * activation\n",
        "    return max(0, -y * activation)"
      ]
    },
    {
      "cell_type": "markdown",
      "metadata": {
        "id": "Lj8h6V58pxdq"
      },
      "source": [
        "<h3>Task 2: One Step of Gradient Descent</h3>\n",
        "\n",
        "<p>Fill in the function below, which takes the following arguments:</p>\n",
        "\n",
        "<ul>\n",
        "    <li><code>clf</code> - An instance of the perceptron class above</li>\n",
        "    <li><code>x</code> - A training instance</li>\n",
        "    <li><code>y</code> - The corresponding true class label</li>\n",
        "    <li><code>learning_rate</code> - A learning rate in the range (0, 1]</li>\n",
        "    <li><code>loss_fn</code> - A function that takes as input the true class label and the activation and returns a real number which is the loss on that example</li>\n",
        "    <li><code>epsilon</code> - The delta to use when using the method of finite differences</li>\n",
        "</ul>\n",
        "\n",
        "<p>The function must return a new set of weights to use in the perceptron after performing one step of gradient descent update using the training example and loss function. To do that, it will:</p>\n",
        "\n",
        "<ol>\n",
        "    <li>Loop over each of your weights. Think how you can access it from one of your parameters.</li>\n",
        "    <li>Compute the partial derivative of the loss with respect to the weight using the method of finite differences</li>\n",
        "    <li>Use the computed gradient (the list of partials with respect to each of the weights) to compute a new weight vector as <code>w = w - α * g</code>, where <code>w</code> is the weight vector, <code>α</code> is the learning rate, and <code>g</code> is the computed gradient.</li>\n",
        "    <li>Return the new weight vector</li>\n",
        "</ol>\n",
        "\n",
        "<p><strong>Note:</strong> Be careful not to modify the weights of the perceptron in place in the routine below.</p>\n"
      ]
    },
    {
      "cell_type": "code",
      "execution_count": 209,
      "metadata": {
        "id": "CHiXt88Opr9Z"
      },
      "outputs": [],
      "source": [
        "def gd_step(clf, x, y, learning_rate, loss_fn, epsilon = 0.001):\n",
        "\n",
        "  new_weights = clf.weights[:] #make the shallow copy the current weight\n",
        "  # w = (W1,W2,.....Wn)\n",
        "\n",
        "\n",
        "  orginal_loss = loss_fn(y, clf.activation(x))\n",
        "  #compute the loss function with activation and true lable y\n",
        "\n",
        "\n",
        "  for i in range(len(clf.weights)): # compute the derivation for all W\n",
        "\n",
        "    weight_plus = clf.weights[:] # copy the weight\n",
        "    weight_plus[i] += epsilon  # Wi = Wi + E\n",
        "\n",
        "    weight_minus = clf.weights[:] # copy the weight\n",
        "    weight_minus[i] -= epsilon     # Wi = Wi - E\n",
        "\n",
        "\n",
        "    #compute the activation for the loss function with the modified weight with the input  x\n",
        "    #(f(w + E ) and f(w - E))\n",
        "    activation_p = np.dot(x, weight_plus)\n",
        "    activation_m = np.dot(x, weight_minus)\n",
        "\n",
        "    #calculate the loss for the both positive and the negative sctivations\n",
        "    # using the formuls loss function f((f(w + E ), y) and f((f(w - E ), y)\n",
        "    loss_p = loss_fn(y, activation_p)  #loss when weight increases\n",
        "    loss_m = loss_fn(y, activation_m)  #loss wehn weight decreases\n",
        "\n",
        "    gradient = (loss_p - loss_m) / (2 * epsilon)  #finite difference method\n",
        "    # f(x) = f(w + E ) - (f(w - E ) / 2E\n",
        "\n",
        "    # gradient descent rule w = w - a * g\n",
        "    new_weights[i] = new_weights[i] - learning_rate * gradient\n",
        "\n",
        "  return new_weights\n",
        "\n",
        "\n"
      ]
    },
    {
      "cell_type": "markdown",
      "metadata": {
        "id": "1sD-rs71p4iu"
      },
      "source": [
        "<h3>Some Training Data</h3>\n",
        "\n",
        "<p>The code below generates a simple 2D dataset of <code>n</code> positive examples followed by <code>n</code> negative examples. The cell after that plots them. The code also prepends a 1 in each example so that the bias term will simply correspond to the first weight.</p>"
      ]
    },
    {
      "cell_type": "code",
      "execution_count": 210,
      "metadata": {
        "id": "yQS4zD0Kp0Io"
      },
      "outputs": [],
      "source": [
        "n = 10\n",
        "X = np.concatenate((np.random.rand(n, 2) + 1,\n",
        "                    np.random.rand(n, 2)))\n",
        "X = np.hstack((np.expand_dims(np.ones(2*n), 1), X))\n",
        "Y = [1] * n + [-1] * n\n",
        "colors = c = ['r'] * n + ['g'] * n\n",
        "\n",
        "# Randomize the order of the instances just for fun\n",
        "rng = np.random.default_rng()\n",
        "state = rng.__getstate__()\n",
        "rng.shuffle(X)\n",
        "rng.__setstate__(state)\n",
        "rng.shuffle(Y)\n",
        "rng.__setstate__(state)\n",
        "rng.shuffle(colors)"
      ]
    },
    {
      "cell_type": "code",
      "execution_count": 211,
      "metadata": {
        "colab": {
          "base_uri": "https://localhost:8080/",
          "height": 448
        },
        "id": "Rwknzxyfp5Jn",
        "outputId": "6441bca0-84cc-41ad-c796-5ef113f965c5"
      },
      "outputs": [
        {
          "output_type": "execute_result",
          "data": {
            "text/plain": [
              "<matplotlib.collections.PathCollection at 0x7dac3fd5d7d0>"
            ]
          },
          "metadata": {},
          "execution_count": 211
        },
        {
          "output_type": "display_data",
          "data": {
            "text/plain": [
              "<Figure size 640x480 with 1 Axes>"
            ],
            "image/png": "[encoded data removed]"
          },
          "metadata": {}
        }
      ],
      "source": [
        "plt.scatter(X[:,1], X[:,2], c = colors)"
      ]
    },
    {
      "cell_type": "markdown",
      "metadata": {
        "id": "4ENMjckLqAEh"
      },
      "source": [
        "<h3>Task 3: Full Gradient Descent</h3>\n",
        "\n",
        "<p>If you've done everything above correctly, the code below will perform gradient descent to train the classifier.</p>\n",
        "\n",
        "<p>Modify this code so that it runs until one epoch produces no classification errors rather than running for a fixed number of iterations.</p>\n"
      ]
    },
    {
      "cell_type": "code",
      "execution_count": 212,
      "metadata": {
        "id": "OVBRROHOp6yo",
        "colab": {
          "base_uri": "https://localhost:8080/"
        },
        "outputId": "547d4b3a-b647-44ed-e3cd-549741cc815b"
      },
      "outputs": [
        {
          "output_type": "stream",
          "name": "stdout",
          "text": [
            "[-0.1772409212120476, -0.01087428162077446, 0.2126596807875074]\n"
          ]
        }
      ],
      "source": [
        "clf = Perceptron(3)\n",
        "\n",
        "for epoch in range(100):\n",
        "    errors = 0\n",
        "    for x, y in zip(X, Y):\n",
        "\n",
        "      activation = np.dot(x, clf.weights) # calculate the activation\n",
        "      if y * activation <= 0:  # if predication is incorrect\n",
        "        clf.weights = gd_step(clf, x, y, 0.01, loss_perceptron) # update the weight usind GD\n",
        "      errors += 1 # increment the error\n",
        "    if errors == 0: # if there is no error break the loop\n",
        "         break\n",
        "print(clf.weights)\n",
        "\n"
      ]
    },
    {
      "cell_type": "markdown",
      "metadata": {
        "id": "AGej9ZCCqEVO"
      },
      "source": [
        "<h3>Task 4: Plot Some Hyperplanes</h3>\n",
        "\n",
        "<p>Run full gradient descent 5 times and write a routine to convert the weights into slope/intercept form. Then use the 'abline' function to plot the hyperplanes learned by the perceptron along with the data in one graph. The second cell below shows how that can be done.</p>\n",
        "\n",
        "**Observation:**\n",
        "<p>Write a paragraph explaining what you see in the plot, discussing how much variation there is from run to run and whether the separators seem like \"good\" ones. Define \"good\" in terms of this problem.</p>\n",
        "\n",
        "<p>\n",
        "After running the test for the multiple time I can see the model is doing well, but on some test it toches the dots, which means it is not perfect yet. But on average the model works good, meand it is able to separate the dots almost from the middle of the points.\n",
        "</p>\n"
      ]
    },
    {
      "cell_type": "code",
      "execution_count": 213,
      "metadata": {
        "id": "R_dRhZ7jqExK"
      },
      "outputs": [],
      "source": [
        "def weights_to_slope_intercept(weights):\n",
        "    w0, w1, w2 = weights  # the genereal eqn of the line w0 + w1.x + w2.y = 0\n",
        "    slope = -w1 / w2 # slope of the line\n",
        "    intercept = -w0 / w2  # interception of the line\n",
        "\n",
        "    return slope, intercept"
      ]
    },
    {
      "cell_type": "code",
      "execution_count": 214,
      "metadata": {
        "id": "RhSu5nmnqFT2"
      },
      "outputs": [],
      "source": [
        "def abline(slope, intercept):\n",
        "    \"\"\"Plot a line from slope and intercept\"\"\"\n",
        "    axes = plt.gca()\n",
        "    x_vals = np.array(axes.get_xlim())\n",
        "    y_vals = intercept + slope * x_vals\n",
        "    plt.plot(x_vals, y_vals, '--')"
      ]
    },
    {
      "cell_type": "code",
      "execution_count": 215,
      "metadata": {
        "colab": {
          "base_uri": "https://localhost:8080/",
          "height": 435
        },
        "id": "YR4engUqqGqa",
        "outputId": "7008c22d-3170-4f03-9b30-731f9d817065"
      },
      "outputs": [
        {
          "output_type": "display_data",
          "data": {
            "text/plain": [
              "<Figure size 640x480 with 1 Axes>"
            ],
            "image/png": "[encoded data removed]"
          },
          "metadata": {}
        }
      ],
      "source": [
        "plt.xlim([0, 2])\n",
        "plt.ylim([0, 2])\n",
        "plt.scatter(X[:,1], X[:,2], c = colors)\n",
        "#abline(-1, 2)\n",
        "#abline(2, 0)\n",
        "slope, intercept = weights_to_slope_intercept(clf.weights) # convert the weights to the slope\n",
        "abline(slope, intercept)"
      ]
    },
    {
      "cell_type": "markdown",
      "metadata": {
        "id": "8EYdyLNbqM12"
      },
      "source": [
        "<h3>Task 5: Do Task 4 Again with a New Loss</h3>\n",
        "\n",
        "<p>Repeat task 4, generating 5 plots of the separators corresponding to hyperplanes, but this time use the loss function below instead of perceptron loss above.</p>\n",
        "\n",
        "**Observation:**<p>How are the results different? Why does the results look different?</p>\n",
        "\n",
        "<p>\n",
        "The new loss function will make the model to saperate the data points right from the middle and keep the line farther away from the data points.\n",
        "\n",
        "The previous loss function was only separating the red and the green dots but now the new function is making sure that the distance with the decision boundary is far enough. As we can see on the plots that on 4 previous plots the line is touching the data points and in one it is far away, but at the last plot the decision boundry looks almost perfect and the line looks like having the proper distance between the different data sets."
      ]
    },
    {
      "cell_type": "code",
      "execution_count": 218,
      "metadata": {
        "id": "YsFhW5gBqIJ6",
        "colab": {
          "base_uri": "https://localhost:8080/",
          "height": 435
        },
        "outputId": "5d888cff-d039-415d-9296-2a365b962001"
      },
      "outputs": [
        {
          "output_type": "display_data",
          "data": {
            "text/plain": [
              "<Figure size 640x480 with 5 Axes>"
            ],
            "image/png": "[encoded data removed]"
          },
          "metadata": {}
        }
      ],
      "source": [
        "def loss_perceptron_margin(y, activation):\n",
        "    return 0 if y * activation > 1 else -y * activation + 1\n",
        "\n",
        "\n",
        "for i in range(5):  #loop for  5 times to generate different plots\n",
        "\n",
        "    clf = Perceptron(3)\n",
        "\n",
        "    for epoch in range(100):\n",
        "        errors = 0\n",
        "        for x, y in zip(X, Y):\n",
        "            activation = np.dot(x, clf.weights) # calculate the activation\n",
        "            if y * activation <= 0:  # if predication is incorrect\n",
        "                clf.weights = gd_step(clf, x, y, 0.01, loss_perceptron_margin) # update the weight usind GD\n",
        "                errors += 1 # increment the error\n",
        "        if errors == 0: # if there is no error break the loop\n",
        "            break\n",
        "\n",
        "\n",
        "    plt.subplot(3, 2, i+1)  #subplot for each of the 5 plots\n",
        "    plt.xlim([0, 2])\n",
        "    plt.ylim([0, 2])\n",
        "    plt.scatter(X[:,1], X[:,2], c = colors) # Scatter plot the data points\n",
        "\n",
        "    # plot the decision boundary\n",
        "    slope, intercept = weights_to_slope_intercept(clf.weights)\n",
        "    abline(slope, intercept)\n"
      ]
    },
    {
      "cell_type": "markdown",
      "metadata": {
        "id": "PtTAqzO5Rz6S"
      },
      "source": [
        "<h3> Bonus Task 6: Multi-Class Perceptron</h3>\n",
        "\n",
        "Implement a variation of the perceptron algorithm that works for a dataset with more than two classes. Did you need to modify the weight update rule. If yes, how did you do it?"
      ]
    }
  ],
  "metadata": {
    "colab": {
      "provenance": [],
      "include_colab_link": true
    },
    "kernelspec": {
      "display_name": "Python 3",
      "name": "python3"
    },
    "language_info": {
      "name": "python"
    }
  },
  "nbformat": 4,
  "nbformat_minor": 0
}